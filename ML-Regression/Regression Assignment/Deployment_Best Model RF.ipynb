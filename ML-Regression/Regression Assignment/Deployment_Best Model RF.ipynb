{
 "cells": [
  {
   "cell_type": "code",
   "execution_count": 1,
   "id": "7896a3ac-205d-4e24-ae08-26720dd6b896",
   "metadata": {},
   "outputs": [],
   "source": [
    "# Deploy phase\n",
    "import pickle # to convert data object into byte stream to save into file, tranport data, access data across sessions"
   ]
  },
  {
   "cell_type": "code",
   "execution_count": 2,
   "id": "cdb6b8a4-5b23-46b2-a8eb-97c4950361e1",
   "metadata": {},
   "outputs": [],
   "source": [
    "filename = \"Finalized_Model_Random_Forest.sav\"\n",
    "\n",
    "loaded_model = pickle.load(open(filename,'rb')) # load the saved model"
   ]
  },
  {
   "cell_type": "code",
   "execution_count": 3,
   "id": "9b13dfa5-0933-4d11-96bb-fd17e2619541",
   "metadata": {},
   "outputs": [
    {
     "name": "stdin",
     "output_type": "stream",
     "text": [
      "Age: 27\n",
      "BMI: 19.5\n",
      "Children: 0\n",
      "Sex_Male 0 or 1: 0\n",
      "Smoker_Yes 0 or 1: 0\n"
     ]
    },
    {
     "name": "stdout",
     "output_type": "stream",
     "text": [
      "Future Prediction for Insurance Charge=[3747.4157518]\n"
     ]
    },
    {
     "name": "stderr",
     "output_type": "stream",
     "text": [
      "C:\\Anaconda3\\Lib\\site-packages\\sklearn\\base.py:493: UserWarning: X does not have valid feature names, but RandomForestRegressor was fitted with feature names\n",
      "  warnings.warn(\n"
     ]
    }
   ],
   "source": [
    "# get inputs from user\n",
    "\n",
    "age=int(input(\"Age:\"))\n",
    "bmi=float(input(\"BMI:\"))\n",
    "child=int(input(\"Children:\"))\n",
    "sex=int(input(\"Sex_Male 0 or 1:\"))\n",
    "smoke=int(input(\"Smoker_Yes 0 or 1:\"))\n",
    "\n",
    "# prediction\n",
    "result=loaded_model.predict([[age,bmi,child,sex,smoke]])\n",
    "print(\"Future Prediction for Insurance Charge={}\".format(result))"
   ]
  },
  {
   "cell_type": "code",
   "execution_count": null,
   "id": "cfd2b658-5fb3-4db9-8406-4a07d3879d4f",
   "metadata": {},
   "outputs": [],
   "source": []
  },
  {
   "cell_type": "code",
   "execution_count": null,
   "id": "0f48ded6-26bb-4555-af98-375decf65ca2",
   "metadata": {},
   "outputs": [],
   "source": []
  }
 ],
 "metadata": {
  "kernelspec": {
   "display_name": "Python 3 (ipykernel)",
   "language": "python",
   "name": "python3"
  },
  "language_info": {
   "codemirror_mode": {
    "name": "ipython",
    "version": 3
   },
   "file_extension": ".py",
   "mimetype": "text/x-python",
   "name": "python",
   "nbconvert_exporter": "python",
   "pygments_lexer": "ipython3",
   "version": "3.12.4"
  }
 },
 "nbformat": 4,
 "nbformat_minor": 5
}
