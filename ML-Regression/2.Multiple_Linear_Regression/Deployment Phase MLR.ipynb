{
 "cells": [
  {
   "cell_type": "code",
   "execution_count": 3,
   "id": "063dd4b7-1f4d-44f1-bd47-f44dff7af1a6",
   "metadata": {},
   "outputs": [],
   "source": [
    "# Deployment Phase\n",
    "\n",
    "import pickle \n",
    "\n",
    "# Load the best model\n",
    "loaded_model = pickle.load(open(\"finalaized_model_MLR.sav\", 'rb'))"
   ]
  },
  {
   "cell_type": "code",
   "execution_count": 7,
   "id": "c5259bc8-67ad-4a38-a522-67ca4b2e7ec3",
   "metadata": {},
   "outputs": [
    {
     "name": "stdin",
     "output_type": "stream",
     "text": [
      "enter the R&D spend amount:  15000\n",
      "enter the Administration spend amount:  10000\n",
      "enter the Marketing spend amount:  12000\n",
      "enter 0/1 (state):  0\n",
      "enter 0/1 (state):  1\n"
     ]
    }
   ],
   "source": [
    "# Get user inputs\n",
    "rd_input = float(input(\"enter the R&D spend amount: \"))\n",
    "admin_input = float(input(\"enter the Administration spend amount: \"))\n",
    "market_input = float(input(\"enter the Marketing spend amount: \"))\n",
    "flo_state_input = float(input(\"enter 0/1 (state): \"))\n",
    "new_state_input = float(input(\"enter 0/1 (state): \"))\n"
   ]
  },
  {
   "cell_type": "code",
   "execution_count": 8,
   "id": "edaea7bc-3b2f-4a37-8c32-fef88e324108",
   "metadata": {},
   "outputs": [
    {
     "name": "stderr",
     "output_type": "stream",
     "text": [
      "C:\\Anaconda3\\Lib\\site-packages\\sklearn\\base.py:493: UserWarning: X does not have valid feature names, but LinearRegression was fitted with feature names\n",
      "  warnings.warn(\n"
     ]
    },
    {
     "data": {
      "text/plain": [
       "array([[55245.42071103]])"
      ]
     },
     "execution_count": 8,
     "metadata": {},
     "output_type": "execute_result"
    }
   ],
   "source": [
    "# Prediction\n",
    "\n",
    "result = loaded_model.predict([[rd_input, admin_input, market_input, flo_state_input, new_state_input ]])\n",
    "result"
   ]
  },
  {
   "cell_type": "code",
   "execution_count": null,
   "id": "49e3f4c3-d50c-436f-8dba-1431f3394902",
   "metadata": {},
   "outputs": [],
   "source": []
  }
 ],
 "metadata": {
  "kernelspec": {
   "display_name": "Python 3 (ipykernel)",
   "language": "python",
   "name": "python3"
  },
  "language_info": {
   "codemirror_mode": {
    "name": "ipython",
    "version": 3
   },
   "file_extension": ".py",
   "mimetype": "text/x-python",
   "name": "python",
   "nbconvert_exporter": "python",
   "pygments_lexer": "ipython3",
   "version": "3.12.4"
  }
 },
 "nbformat": 4,
 "nbformat_minor": 5
}
