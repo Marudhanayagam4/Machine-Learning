{
 "cells": [
  {
   "cell_type": "code",
   "execution_count": 1,
   "id": "5c775086-84aa-4479-a677-bc99d6f1babb",
   "metadata": {},
   "outputs": [],
   "source": [
    "import pickle"
   ]
  },
  {
   "cell_type": "code",
   "execution_count": 5,
   "id": "00ff27c7-ef14-4e57-9c38-ea94e0ff18c2",
   "metadata": {},
   "outputs": [],
   "source": [
    "model = pickle.load(open('Best_Model_SVR.sav','rb'))"
   ]
  },
  {
   "cell_type": "code",
   "execution_count": 6,
   "id": "430397b9-a0ce-41be-8220-680a77f7013c",
   "metadata": {},
   "outputs": [],
   "source": [
    "scx=pickle.load(open('Scaler_X.pkl','rb'))\n",
    "scy=pickle.load(open('Scaler_Y.pkl','rb'))"
   ]
  },
  {
   "cell_type": "code",
   "execution_count": 7,
   "id": "6963517b-e6f8-4eb5-bf41-d391b7e43c1e",
   "metadata": {},
   "outputs": [
    {
     "name": "stderr",
     "output_type": "stream",
     "text": [
      "C:\\Anaconda3\\Lib\\site-packages\\sklearn\\base.py:493: UserWarning: X does not have valid feature names, but StandardScaler was fitted with feature names\n",
      "  warnings.warn(\n"
     ]
    },
    {
     "data": {
      "text/plain": [
       "array([[-1.28923552, -4.610087  , -1.47679335, -0.5       ,  1.30088727]])"
      ]
     },
     "execution_count": 7,
     "metadata": {},
     "output_type": "execute_result"
    }
   ],
   "source": [
    "preinput=scx.transform([[10000,5000,8000,0,1]])\n",
    "preinput"
   ]
  },
  {
   "cell_type": "code",
   "execution_count": 8,
   "id": "cd5c5f87-e233-431e-b17b-b49836ced911",
   "metadata": {},
   "outputs": [],
   "source": [
    "result = model.predict(preinput)"
   ]
  },
  {
   "cell_type": "code",
   "execution_count": 9,
   "id": "e8fc0f1d-f103-45e8-80f8-ad4efc4d8fb5",
   "metadata": {},
   "outputs": [
    {
     "data": {
      "text/plain": [
       "array([-1.32841387])"
      ]
     },
     "execution_count": 9,
     "metadata": {},
     "output_type": "execute_result"
    }
   ],
   "source": [
    "result"
   ]
  },
  {
   "cell_type": "code",
   "execution_count": 14,
   "id": "fb9c09d8-ec41-4f2a-bc9e-662eaa34139f",
   "metadata": {},
   "outputs": [],
   "source": [
    "preoutput = scy.inverse_transform([result])"
   ]
  },
  {
   "cell_type": "code",
   "execution_count": 15,
   "id": "a1448b6d-06f2-4a19-b8d5-9b3ef1cd6652",
   "metadata": {},
   "outputs": [
    {
     "data": {
      "text/plain": [
       "array([[53086.57120617]])"
      ]
     },
     "execution_count": 15,
     "metadata": {},
     "output_type": "execute_result"
    }
   ],
   "source": [
    "preoutput"
   ]
  },
  {
   "cell_type": "code",
   "execution_count": null,
   "id": "b09432ff-489f-4465-9f33-63e0754ffc8f",
   "metadata": {},
   "outputs": [],
   "source": []
  },
  {
   "cell_type": "code",
   "execution_count": null,
   "id": "20cd21b0-5dcf-4b5a-a90c-da5770607f8b",
   "metadata": {},
   "outputs": [],
   "source": []
  }
 ],
 "metadata": {
  "kernelspec": {
   "display_name": "Python 3 (ipykernel)",
   "language": "python",
   "name": "python3"
  },
  "language_info": {
   "codemirror_mode": {
    "name": "ipython",
    "version": 3
   },
   "file_extension": ".py",
   "mimetype": "text/x-python",
   "name": "python",
   "nbconvert_exporter": "python",
   "pygments_lexer": "ipython3",
   "version": "3.12.4"
  }
 },
 "nbformat": 4,
 "nbformat_minor": 5
}
