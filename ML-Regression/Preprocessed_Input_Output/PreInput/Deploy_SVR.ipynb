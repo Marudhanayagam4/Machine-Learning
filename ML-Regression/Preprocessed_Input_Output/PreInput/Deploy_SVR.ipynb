{
 "cells": [
  {
   "cell_type": "code",
   "execution_count": 1,
   "id": "f1c60b77-3fcb-4c75-ada6-7ef93f5408ca",
   "metadata": {},
   "outputs": [],
   "source": [
    "import pickle"
   ]
  },
  {
   "cell_type": "code",
   "execution_count": 3,
   "id": "f988da2e-0505-4e9c-9d13-79f4b0a194f2",
   "metadata": {},
   "outputs": [],
   "source": [
    "model = pickle.load(open(\"Best_Model_SVR.sav\",'rb'))"
   ]
  },
  {
   "cell_type": "code",
   "execution_count": 4,
   "id": "e6b8331d-990d-4792-b216-23ca9c5d0406",
   "metadata": {},
   "outputs": [],
   "source": [
    "scx = pickle.load(open(\"Scaler_X.pkl\",'rb'))"
   ]
  },
  {
   "cell_type": "code",
   "execution_count": 5,
   "id": "ef34ce22-5e53-4906-892b-6aa7680a39e9",
   "metadata": {},
   "outputs": [
    {
     "name": "stderr",
     "output_type": "stream",
     "text": [
      "C:\\Anaconda3\\Lib\\site-packages\\sklearn\\base.py:493: UserWarning: X does not have valid feature names, but StandardScaler was fitted with feature names\n",
      "  warnings.warn(\n"
     ]
    }
   ],
   "source": [
    "preInput = scx.transform([[5000,10000,12000,1,0]])"
   ]
  },
  {
   "cell_type": "code",
   "execution_count": 6,
   "id": "6d416af6-8801-4a78-ac9d-d49cf6d16545",
   "metadata": {},
   "outputs": [],
   "source": [
    "result= model.predict(preInput)"
   ]
  },
  {
   "cell_type": "code",
   "execution_count": 7,
   "id": "f28864a7-1b76-485a-8daa-5824de5e45c8",
   "metadata": {},
   "outputs": [
    {
     "data": {
      "text/plain": [
       "array([52726.75503044])"
      ]
     },
     "execution_count": 7,
     "metadata": {},
     "output_type": "execute_result"
    }
   ],
   "source": [
    "result"
   ]
  },
  {
   "cell_type": "code",
   "execution_count": null,
   "id": "8792d6b9-82be-40e8-8af9-65c05d4126c1",
   "metadata": {},
   "outputs": [],
   "source": []
  }
 ],
 "metadata": {
  "kernelspec": {
   "display_name": "Python 3 (ipykernel)",
   "language": "python",
   "name": "python3"
  },
  "language_info": {
   "codemirror_mode": {
    "name": "ipython",
    "version": 3
   },
   "file_extension": ".py",
   "mimetype": "text/x-python",
   "name": "python",
   "nbconvert_exporter": "python",
   "pygments_lexer": "ipython3",
   "version": "3.12.4"
  }
 },
 "nbformat": 4,
 "nbformat_minor": 5
}
